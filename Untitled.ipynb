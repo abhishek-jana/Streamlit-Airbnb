{
 "cells": [
  {
   "cell_type": "code",
   "execution_count": 48,
   "id": "4d3cfefc",
   "metadata": {},
   "outputs": [],
   "source": [
    "import numpy as np\n",
    "import pandas as pd\n",
    "import matplotlib.pyplot as plt"
   ]
  },
  {
   "cell_type": "code",
   "execution_count": 49,
   "id": "a9d03623",
   "metadata": {},
   "outputs": [],
   "source": [
    "# function to remove $ sign and return float\n",
    "\n",
    "def str_to_float(string):\n",
    "    \"\"\"\n",
    "    INPUT\n",
    "    string - string of the price (ex : $250.00)\n",
    "    \n",
    "    OUTPUT\n",
    "    float - returns float value of the price (ex: 250.0)\n",
    "    \"\"\"\n",
    "    if string[:1] == '$':\n",
    "        return float(string[1:].replace(',', ''))\n",
    "    else:\n",
    "        return np.nan"
   ]
  },
  {
   "cell_type": "code",
   "execution_count": 50,
   "id": "486899a8",
   "metadata": {},
   "outputs": [],
   "source": [
    "df_listing = pd.read_csv('data/listings.csv.gz', compression='gzip',low_memory=False)\n"
   ]
  },
  {
   "cell_type": "code",
   "execution_count": 51,
   "id": "2ab74520",
   "metadata": {},
   "outputs": [
    {
     "data": {
      "text/plain": [
       "Entire home/apt    8731\n",
       "Private room       2141\n",
       "Shared room         126\n",
       "Hotel room           84\n",
       "Name: room_type, dtype: int64"
      ]
     },
     "execution_count": 51,
     "metadata": {},
     "output_type": "execute_result"
    }
   ],
   "source": [
    "df_listing[['neighbourhood_cleansed', 'latitude','property_type', 'room_type']].room_type.value_counts()"
   ]
  },
  {
   "cell_type": "code",
   "execution_count": 52,
   "id": "0a4a5d9c",
   "metadata": {},
   "outputs": [],
   "source": [
    "df_listing_short = pd.read_csv('data/listings.csv')"
   ]
  },
  {
   "cell_type": "code",
   "execution_count": 53,
   "id": "80b02d41",
   "metadata": {},
   "outputs": [
    {
     "data": {
      "text/plain": [
       "Hollywood                   3150\n",
       "Fort Lauderdale             2332\n",
       "Pompano Beach               1368\n",
       "Hallandale Beach            1136\n",
       "Deerfield Beach              436\n",
       "Wilton Manors                269\n",
       "Lauderdale By The Sea        267\n",
       "Dania Beach                  257\n",
       "Oakland Park                 234\n",
       "Miramar                      210\n",
       "Pembroke Pines               202\n",
       "Plantation                   154\n",
       "Sunrise                      130\n",
       "Davie                        128\n",
       "Coral Springs                 95\n",
       "Weston                        94\n",
       "Lauderhill                    69\n",
       "West Park                     68\n",
       "North Lauderdale              60\n",
       "Tamarac                       58\n",
       "Margate                       52\n",
       "Coconut Creek                 51\n",
       "Lighthouse Point              41\n",
       "Lauderdale Lakes              40\n",
       "Unincorporated                39\n",
       "Cooper City                   35\n",
       "Hillsboro Beach               34\n",
       "Pembroke Park                 19\n",
       "Southwest Ranches             13\n",
       "Parkland                      11\n",
       "Tribal Land                   10\n",
       "County Regional Facility       9\n",
       "Sea Ranch Lakes                7\n",
       "Lazy Lake                      4\n",
       "Name: neighbourhood, dtype: int64"
      ]
     },
     "execution_count": 53,
     "metadata": {},
     "output_type": "execute_result"
    }
   ],
   "source": [
    "df_listing_short.neighbourhood.value_counts()"
   ]
  },
  {
   "cell_type": "code",
   "execution_count": 54,
   "id": "24d2a51f",
   "metadata": {},
   "outputs": [
    {
     "data": {
      "image/png": "[encoded data removed]",
      "text/plain": [
       "<Figure size 432x288 with 1 Axes>"
      ]
     },
     "metadata": {
      "needs_background": "light"
     },
     "output_type": "display_data"
    }
   ],
   "source": [
    "df_listing = df_listing.sort_values('last_scraped', ascending=True);\n",
    "plt.plot(df_listing['last_scraped'], df_listing['price']);\n",
    "plt.xticks(rotation='vertical');"
   ]
  },
  {
   "cell_type": "code",
   "execution_count": 55,
   "id": "b36826b1",
   "metadata": {},
   "outputs": [],
   "source": [
    "df_listing['price'] = df_listing[\"price\"].dropna().apply(str_to_float)"
   ]
  },
  {
   "cell_type": "code",
   "execution_count": 56,
   "id": "540224e7",
   "metadata": {},
   "outputs": [],
   "source": [
    "df_listing[\"year\"] = pd.DatetimeIndex(df_listing['last_scraped']).year # exracting year\n",
    "df_listing[\"month\"] = pd.DatetimeIndex(df_listing['last_scraped']).month # extracting month"
   ]
  },
  {
   "cell_type": "code",
   "execution_count": 59,
   "id": "f8e82f98",
   "metadata": {},
   "outputs": [
    {
     "ename": "AttributeError",
     "evalue": "'Int64Index' object has no attribute 'remove_unused_levels'",
     "output_type": "error",
     "traceback": [
      "\u001b[0;31m-----------------------------------------------\u001b[0m",
      "\u001b[0;31mAttributeError\u001b[0mTraceback (most recent call last)",
      "\u001b[0;32m<ipython-input-59-88651e874ec1>\u001b[0m in \u001b[0;36m<module>\u001b[0;34m()\u001b[0m\n\u001b[0;32m----> 1\u001b[0;31m \u001b[0mdf_listing\u001b[0m\u001b[0;34m.\u001b[0m\u001b[0mgroupby\u001b[0m\u001b[0;34m(\u001b[0m\u001b[0;34m[\u001b[0m\u001b[0;34m'month'\u001b[0m\u001b[0;34m]\u001b[0m\u001b[0;34m)\u001b[0m\u001b[0;34m.\u001b[0m\u001b[0mprice\u001b[0m\u001b[0;34m.\u001b[0m\u001b[0mmean\u001b[0m\u001b[0;34m(\u001b[0m\u001b[0;34m)\u001b[0m\u001b[0;34m.\u001b[0m\u001b[0munstack\u001b[0m\u001b[0;34m(\u001b[0m\u001b[0;34m)\u001b[0m\u001b[0;34m\u001b[0m\u001b[0;34m\u001b[0m\u001b[0m\n\u001b[0m",
      "\u001b[0;32m/home/shree/anaconda3/envs/MachineLearning/lib/python3.7/site-packages/pandas/core/series.py\u001b[0m in \u001b[0;36munstack\u001b[0;34m(self, level, fill_value)\u001b[0m\n\u001b[1;32m   3901\u001b[0m         \u001b[0;32mfrom\u001b[0m \u001b[0mpandas\u001b[0m\u001b[0;34m.\u001b[0m\u001b[0mcore\u001b[0m\u001b[0;34m.\u001b[0m\u001b[0mreshape\u001b[0m\u001b[0;34m.\u001b[0m\u001b[0mreshape\u001b[0m \u001b[0;32mimport\u001b[0m \u001b[0munstack\u001b[0m\u001b[0;34m\u001b[0m\u001b[0;34m\u001b[0m\u001b[0m\n\u001b[1;32m   3902\u001b[0m \u001b[0;34m\u001b[0m\u001b[0m\n\u001b[0;32m-> 3903\u001b[0;31m         \u001b[0;32mreturn\u001b[0m \u001b[0munstack\u001b[0m\u001b[0;34m(\u001b[0m\u001b[0mself\u001b[0m\u001b[0;34m,\u001b[0m \u001b[0mlevel\u001b[0m\u001b[0;34m,\u001b[0m \u001b[0mfill_value\u001b[0m\u001b[0;34m)\u001b[0m\u001b[0;34m\u001b[0m\u001b[0;34m\u001b[0m\u001b[0m\n\u001b[0m\u001b[1;32m   3904\u001b[0m \u001b[0;34m\u001b[0m\u001b[0m\n\u001b[1;32m   3905\u001b[0m     \u001b[0;31m# ----------------------------------------------------------------------\u001b[0m\u001b[0;34m\u001b[0m\u001b[0;34m\u001b[0m\u001b[0;34m\u001b[0m\u001b[0m\n",
      "\u001b[0;32m/home/shree/anaconda3/envs/MachineLearning/lib/python3.7/site-packages/pandas/core/reshape/reshape.py\u001b[0m in \u001b[0;36munstack\u001b[0;34m(obj, level, fill_value)\u001b[0m\n\u001b[1;32m    423\u001b[0m             \u001b[0;32mreturn\u001b[0m \u001b[0m_unstack_extension_series\u001b[0m\u001b[0;34m(\u001b[0m\u001b[0mobj\u001b[0m\u001b[0;34m,\u001b[0m \u001b[0mlevel\u001b[0m\u001b[0;34m,\u001b[0m \u001b[0mfill_value\u001b[0m\u001b[0;34m)\u001b[0m\u001b[0;34m\u001b[0m\u001b[0;34m\u001b[0m\u001b[0m\n\u001b[1;32m    424\u001b[0m         unstacker = _Unstacker(\n\u001b[0;32m--> 425\u001b[0;31m             \u001b[0mobj\u001b[0m\u001b[0;34m.\u001b[0m\u001b[0mindex\u001b[0m\u001b[0;34m,\u001b[0m \u001b[0mlevel\u001b[0m\u001b[0;34m=\u001b[0m\u001b[0mlevel\u001b[0m\u001b[0;34m,\u001b[0m \u001b[0mconstructor\u001b[0m\u001b[0;34m=\u001b[0m\u001b[0mobj\u001b[0m\u001b[0;34m.\u001b[0m\u001b[0m_constructor_expanddim\u001b[0m\u001b[0;34m,\u001b[0m\u001b[0;34m\u001b[0m\u001b[0;34m\u001b[0m\u001b[0m\n\u001b[0m\u001b[1;32m    426\u001b[0m         )\n\u001b[1;32m    427\u001b[0m         return unstacker.get_result(\n",
      "\u001b[0;32m/home/shree/anaconda3/envs/MachineLearning/lib/python3.7/site-packages/pandas/core/reshape/reshape.py\u001b[0m in \u001b[0;36m__init__\u001b[0;34m(self, index, level, constructor)\u001b[0m\n\u001b[1;32m     90\u001b[0m         \u001b[0mself\u001b[0m\u001b[0;34m.\u001b[0m\u001b[0mconstructor\u001b[0m \u001b[0;34m=\u001b[0m \u001b[0mconstructor\u001b[0m\u001b[0;34m\u001b[0m\u001b[0;34m\u001b[0m\u001b[0m\n\u001b[1;32m     91\u001b[0m \u001b[0;34m\u001b[0m\u001b[0m\n\u001b[0;32m---> 92\u001b[0;31m         \u001b[0mself\u001b[0m\u001b[0;34m.\u001b[0m\u001b[0mindex\u001b[0m \u001b[0;34m=\u001b[0m \u001b[0mindex\u001b[0m\u001b[0;34m.\u001b[0m\u001b[0mremove_unused_levels\u001b[0m\u001b[0;34m(\u001b[0m\u001b[0;34m)\u001b[0m\u001b[0;34m\u001b[0m\u001b[0;34m\u001b[0m\u001b[0m\n\u001b[0m\u001b[1;32m     93\u001b[0m \u001b[0;34m\u001b[0m\u001b[0m\n\u001b[1;32m     94\u001b[0m         \u001b[0mself\u001b[0m\u001b[0;34m.\u001b[0m\u001b[0mlevel\u001b[0m \u001b[0;34m=\u001b[0m \u001b[0mself\u001b[0m\u001b[0;34m.\u001b[0m\u001b[0mindex\u001b[0m\u001b[0;34m.\u001b[0m\u001b[0m_get_level_number\u001b[0m\u001b[0;34m(\u001b[0m\u001b[0mlevel\u001b[0m\u001b[0;34m)\u001b[0m\u001b[0;34m\u001b[0m\u001b[0;34m\u001b[0m\u001b[0m\n",
      "\u001b[0;31mAttributeError\u001b[0m: 'Int64Index' object has no attribute 'remove_unused_levels'"
     ]
    }
   ],
   "source": [
    "df_listing.groupby(['month']).price.mean().unstack()"
   ]
  },
  {
   "cell_type": "code",
   "execution_count": 62,
   "id": "16b27d04",
   "metadata": {},
   "outputs": [
    {
     "name": "stdout",
     "output_type": "stream",
     "text": [
      "seattle_listing data columns with no missing values \n",
      " {'number_of_reviews_l30d', 'maximum_nights_avg_ntm', 'host_url', 'has_availability', 'availability_90', 'last_scraped', 'minimum_nights_avg_ntm', 'number_of_reviews', 'latitude', 'year', 'listing_url', 'calculated_host_listings_count_private_rooms', 'longitude', 'price', 'availability_60', 'id', 'host_verifications', 'availability_365', 'calculated_host_listings_count_entire_homes', 'calendar_last_scraped', 'minimum_nights', 'calculated_host_listings_count', 'maximum_maximum_nights', 'maximum_minimum_nights', 'minimum_minimum_nights', 'availability_30', 'name', 'scrape_id', 'minimum_maximum_nights', 'host_id', 'property_type', 'maximum_nights', 'month', 'neighbourhood_cleansed', 'picture_url', 'room_type', 'instant_bookable', 'amenities', 'accommodates', 'number_of_reviews_ltm', 'calculated_host_listings_count_shared_rooms'}\n",
      "\n",
      " seattle_listing data columns with atleast 75% missing values \n",
      " {'license', 'bathrooms', 'calendar_updated', 'neighbourhood_group_cleansed'}\n"
     ]
    }
   ],
   "source": [
    "df_listing_no_nulls = set(df_listing.columns[df_listing.isnull().mean()==0])\n",
    "df_listing_most_nulls = set(df_listing.columns[df_listing.isnull().mean() > 0.75])\n",
    "\n",
    "print(\"seattle_listing data columns with no missing values \\n\",df_listing_no_nulls) #columns with no missing value\n",
    "print(\"\\n seattle_listing data columns with atleast 75% missing values \\n\",df_listing_most_nulls) #columns with atleast 75% missing value"
   ]
  },
  {
   "cell_type": "code",
   "execution_count": 63,
   "id": "24a21060",
   "metadata": {},
   "outputs": [
    {
     "data": {
      "text/plain": [
       "3    11049\n",
       "4       33\n",
       "Name: month, dtype: int64"
      ]
     },
     "execution_count": 63,
     "metadata": {},
     "output_type": "execute_result"
    }
   ],
   "source": []
  },
  {
   "cell_type": "code",
   "execution_count": null,
   "id": "9b4a2e1a",
   "metadata": {},
   "outputs": [],
   "source": []
  }
 ],
 "metadata": {
  "kernelspec": {
   "display_name": "MachineLearning",
   "language": "python",
   "name": "machinelearning"
  },
  "language_info": {
   "codemirror_mode": {
    "name": "ipython",
    "version": 3
   },
   "file_extension": ".py",
   "mimetype": "text/x-python",
   "name": "python",
   "nbconvert_exporter": "python",
   "pygments_lexer": "ipython3",
   "version": "3.7.9"
  }
 },
 "nbformat": 4,
 "nbformat_minor": 5
}
